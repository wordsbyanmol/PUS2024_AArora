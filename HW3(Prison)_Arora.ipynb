{
  "cells": [
    {
      "cell_type": "markdown",
      "metadata": {
        "id": "view-in-github",
        "colab_type": "text"
      },
      "source": [
        "<a href=\"https://colab.research.google.com/github/wordsbyanmol/PUS2024_AArora/blob/main/HW3(Prison)_Arora.ipynb\" target=\"_parent\"><img src=\"https://colab.research.google.com/assets/colab-badge.svg\" alt=\"Open In Colab\"/></a>"
      ]
    },
    {
      "cell_type": "markdown",
      "metadata": {
        "run_control": {
          "frozen": false,
          "read_only": false
        },
        "id": "ZtcaaZGbsawt"
      },
      "source": [
        "\n",
        "August 2015  \n",
        "Modified September 2017, October 2018\n",
        "\n",
        "Author: FBB\n",
        "\n",
        "** reproduce the result in **\n",
        "http://www.mdrc.org/sites/default/files/What%20Strategies%20Work%20for%20the%20Hard%20FR.pdf"
      ]
    },
    {
      "cell_type": "code",
      "execution_count": 2,
      "metadata": {
        "ExecuteTime": {
          "end_time": "2018-10-03T03:56:25.982146Z",
          "start_time": "2018-10-03T03:56:24.071017Z"
        },
        "run_control": {
          "frozen": false,
          "read_only": false
        },
        "id": "3kfVF-tvsaw3"
      },
      "outputs": [],
      "source": [
        "import os\n",
        "import sys\n",
        "import numpy as np\n",
        "import pylab as pl\n",
        "\n",
        "#%pylab inline"
      ]
    },
    {
      "cell_type": "markdown",
      "metadata": {
        "run_control": {
          "frozen": false,
          "read_only": false
        },
        "id": "BMUjl0Pasaw4"
      },
      "source": [
        "# NULL HYPOTHESIS: the % of former prisoners employed after release is the same or lower for candidates who participated in the program as for the control group, significance level p=0.05"
      ]
    },
    {
      "cell_type": "code",
      "source": [
        "from google.colab import drive\n",
        "drive.mount('/content/drive')"
      ],
      "metadata": {
        "colab": {
          "base_uri": "https://localhost:8080/"
        },
        "id": "bK3HURWbxQUQ",
        "outputId": "56e7cd1e-d4e0-4576-c5a0-199e934005d3"
      },
      "execution_count": 3,
      "outputs": [
        {
          "output_type": "stream",
          "name": "stdout",
          "text": [
            "Drive already mounted at /content/drive; to attempt to forcibly remount, call drive.mount(\"/content/drive\", force_remount=True).\n"
          ]
        }
      ]
    },
    {
      "cell_type": "markdown",
      "metadata": {
        "run_control": {
          "frozen": false,
          "read_only": false
        },
        "id": "YvoQTC8Qsaw4"
      },
      "source": [
        "** $H_0: P_0 - P_1 \\geq$    0 **\n",
        "    \n",
        "** $H_a: P_0 - P_1 $< 0    **\n",
        "    \n",
        "    \n",
        "** $\\alpha$ = 0.05    **\n",
        "\n",
        "** this is a TEST OF PROPORTIONS. we use the Binomial distribution since it is a yes/no (bernulli) test for each subject: the former inmate was or was not ever employed in a CEO transitional job (second row in the table above): **\n",
        "\n",
        "** $P_0=0.035, P_1=0.701$**"
      ]
    },
    {
      "cell_type": "code",
      "execution_count": 4,
      "metadata": {
        "ExecuteTime": {
          "end_time": "2018-10-03T03:56:26.188112Z",
          "start_time": "2018-10-03T03:56:26.168425Z"
        },
        "run_control": {
          "frozen": false,
          "read_only": false
        },
        "id": "_gu-Pbagsaw4",
        "outputId": "b96a344c-5755-4942-c1d6-62f9353075e3",
        "colab": {
          "base_uri": "https://localhost:8080/"
        }
      },
      "outputs": [
        {
          "output_type": "stream",
          "name": "stdout",
          "text": [
            "we must assess the statistical significance\n"
          ]
        }
      ],
      "source": [
        "\n",
        "# first thing: choose your significance threshold\n",
        "alpha=0.05\n",
        "\n",
        "# we like fractions better then percentages. as a rule of thumb, either use fractions or counts.\n",
        "# 0 for control group, 1 for program group\n",
        "\n",
        "P_0 = 3.5 * 0.01\n",
        "P_1 = 70.1 * 0.01\n",
        "\n",
        "if P_0 - P_1 >= 0:\n",
        "    # we are done\n",
        "    print (\"the Null holds\")\n",
        "else:\n",
        "    print (\"we must assess the statistical significance\")\n",
        "\n",
        "#sample sizes\n",
        "\n",
        "n_0 = 409\n",
        "n_1 = 564\n",
        "\n",
        "#lets get the counts by multiplying by the sample size\n",
        "\n",
        "Nt_0 = P_0 * n_0\n",
        "Nt_1 = P_1 * n_1\n"
      ]
    },
    {
      "cell_type": "markdown",
      "metadata": {
        "run_control": {
          "frozen": false,
          "read_only": false
        },
        "id": "I0x98peAsaw5"
      },
      "source": [
        "# WHICH  TEST?\n",
        "\n",
        "samples, categorical data\n",
        "\n",
        " ** TWO OPTIONS z test, or chi-square test.  **"
      ]
    },
    {
      "cell_type": "markdown",
      "metadata": {
        "run_control": {
          "frozen": false,
          "read_only": false
        },
        "id": "2TXULMNWsaw5"
      },
      "source": [
        "# START WITH Z TEST\n",
        "\n",
        "** the z test compares the stanrard deviation of the expected distribution and the observed result. it tells you literally how many standard deviations from the tail an observation is, under the _assumption of normality_ **\n"
      ]
    },
    {
      "cell_type": "markdown",
      "metadata": {
        "id": "FdC7L7A9saw5"
      },
      "source": [
        "must define the sample standard deviation (standard error)"
      ]
    },
    {
      "cell_type": "code",
      "execution_count": 5,
      "metadata": {
        "ExecuteTime": {
          "end_time": "2018-10-03T03:56:26.257273Z",
          "start_time": "2018-10-03T03:56:26.241254Z"
        },
        "run_control": {
          "frozen": false,
          "read_only": false
        },
        "id": "j38vy6vEsaw5",
        "outputId": "23af1d3d-3da8-40e0-b99c-1dfc2aa8330b",
        "colab": {
          "base_uri": "https://localhost:8080/"
        }
      },
      "outputs": [
        {
          "output_type": "stream",
          "name": "stdout",
          "text": [
            "0.4210472764645426\n"
          ]
        }
      ],
      "source": [
        "#define the sample proportion first\n",
        "sp = (P_0 * n_0 + P_1 * n_1) / (n_1 + n_0)\n",
        "print (sp)"
      ]
    },
    {
      "cell_type": "markdown",
      "metadata": {
        "run_control": {
          "frozen": false,
          "read_only": false
        },
        "id": "fMjCQNXosaw5"
      },
      "source": [
        "** standard deviation of the sampling distribution the distribution is Binomial, the binomial stdev is **\n",
        "\n",
        "(see a proof here!: http://stats.stackexchange.com/questions/29641/standard-error-for-the-mean-of-a-sample-of-binomial-random-variables!):\n",
        "\n",
        "$\\sqrt{\\frac{p(1 - p)}{n}}$\n",
        "\n",
        "for 2 samples this becomes\n",
        "\n",
        "$\\sqrt{ \\frac{ \\hat{p}(1 - \\hat{p})} {n0} + \\frac{ \\hat{p}(1 - \\hat{p})} {n1} }$\n",
        "\n",
        "cfr: page 138 of Statistics in a Nutshell, eq. 5.12 and here http://stattrek.com/hypothesis-test/difference-in-proportions.aspx?Tutorial=AP\n",
        "\n",
        "** $\\hat{p} =\\frac{p_0  n_0 + p_1  n_1}{n_0+n_1}$ **\n"
      ]
    },
    {
      "cell_type": "markdown",
      "metadata": {
        "run_control": {
          "frozen": false,
          "read_only": false
        },
        "id": "h6fwNta_saw5"
      },
      "source": [
        "Note that in the online version of Statistics in a Nutshell, $\\bar{x}$  should be  $\\hat{p}$!!"
      ]
    },
    {
      "cell_type": "code",
      "execution_count": 6,
      "metadata": {
        "ExecuteTime": {
          "end_time": "2018-10-03T03:56:26.271816Z",
          "start_time": "2018-10-03T03:56:26.262189Z"
        },
        "run_control": {
          "frozen": false,
          "read_only": false
        },
        "id": "JF_L304Gsaw5"
      },
      "outputs": [],
      "source": [
        "# I am goonna create a little one line function to calculate the standard error\n",
        "# and to calculate p\n",
        "\n",
        "p = lambda p0, p1, n0, n1: (p0 * n0 + p1 * n1) / (n0 + n1)\n",
        "#standard error\n",
        "se = lambda p, n0, n1: np.sqrt(p * (1 - p) * (1.0 / n0 + 1.0 / n1))"
      ]
    },
    {
      "cell_type": "markdown",
      "metadata": {
        "run_control": {
          "frozen": false,
          "read_only": false
        },
        "id": "sjxW8zFtsaw6"
      },
      "source": [
        "** z score: how many standard deviation away from the population parameter is my statistic? **\n",
        "\n",
        " $z=\\frac{P_1-P_0}{\\sigma}$"
      ]
    },
    {
      "cell_type": "code",
      "execution_count": 7,
      "metadata": {
        "ExecuteTime": {
          "end_time": "2018-10-03T03:56:26.292608Z",
          "start_time": "2018-10-03T03:56:26.277966Z"
        },
        "run_control": {
          "frozen": false,
          "read_only": false
        },
        "id": "xOAJ3V2ksaw6",
        "outputId": "2d108197-7933-4ad6-b1f8-7b9397f006e3",
        "colab": {
          "base_uri": "https://localhost:8080/"
        }
      },
      "outputs": [
        {
          "output_type": "stream",
          "name": "stdout",
          "text": [
            "20.769786540820895\n"
          ]
        }
      ],
      "source": [
        "zscore = lambda p0, p1, s : (p0 - p1) / s\n",
        "z_2y = zscore(P_1, P_0, se(p(P_0, P_1, n_0, n_1), n_0, n_1))\n",
        "print (z_2y)"
      ]
    },
    {
      "cell_type": "markdown",
      "metadata": {
        "run_control": {
          "frozen": false,
          "read_only": false
        },
        "id": "UgXIhWoWsaw6"
      },
      "source": [
        "note that using p0-p1 or p1-p0 at the numerator is equivalent because the standardizes normal value of z has mean 0 (see image below) so that we can use the absolute value of the z score, or equivalently look for $P[Z<z]$ if z is positive, and $P[Z>z]$ if z is negative."
      ]
    },
    {
      "cell_type": "markdown",
      "metadata": {
        "run_control": {
          "frozen": false,
          "read_only": false
        },
        "id": "l6RE8_mJsaw6"
      },
      "source": [
        "* if $p<\\alpha$ : reject H0 **\n",
        "\n",
        "IMPORTANT!! note that this P in the bottom line of the table is not the p-value, but\n",
        "\n",
        "p-value = 1-P"
      ]
    },
    {
      "cell_type": "code",
      "execution_count": 8,
      "metadata": {
        "ExecuteTime": {
          "end_time": "2018-10-03T03:56:28.851851Z",
          "start_time": "2018-10-03T03:56:28.732068Z"
        },
        "run_control": {
          "frozen": false,
          "read_only": false
        },
        "id": "cT7B3g3usaw6",
        "outputId": "6a15e706-8991-4eee-d890-272367733913",
        "colab": {
          "base_uri": "https://localhost:8080/"
        }
      },
      "outputs": [
        {
          "output_type": "stream",
          "name": "stdout",
          "text": [
            "is the p value 0.00 smaller than the critical value 0.05?\n",
            "YES!\n",
            "the Null hypothesis is rejected\n"
          ]
        }
      ],
      "source": [
        "## p-value for employment after 2 years:\n",
        "## since the largest number we read off the table for is (way) smaller\n",
        "## than the value for our statistic\n",
        "## our p-value will be smaller than it would be if calculated using\n",
        "## (e.g.) .9998 (and in fact using 1.0000 which is the largest number\n",
        "## in the table). Using 0.9998 is a **conservative** approach.\n",
        "\n",
        "p_2y = 1 - 0.9984\n",
        "\n",
        "\n",
        "def report_result(p,a):\n",
        "    print ('is the p value ' +\n",
        "           '{0:.2f} smaller than the critical value {1:.2f}?'.format(p,a))\n",
        "    if p < a:\n",
        "        print (\"YES!\")\n",
        "    else:\n",
        "        print (\"NO!\")\n",
        "\n",
        "    print ('the Null hypothesis is {}'.format(\\\n",
        "                            'rejected' if p < a  else 'not rejected') )\n",
        "\n",
        "\n",
        "report_result(p_2y, alpha)"
      ]
    },
    {
      "cell_type": "markdown",
      "metadata": {
        "run_control": {
          "frozen": false,
          "read_only": false
        },
        "id": "z4TkrkIdsaw6"
      },
      "source": [
        "# what if we used the values for where the former inmate was or was not \"Convicted of a felony\" (row 10) in the Recidivism (Years 1-3)?\n",
        "\n",
        " Null hypothesis?\n",
        " $H_0$?\n",
        " $H_a$?\n",
        "\n",
        " $P_0 = ??, P_1= ??$"
      ]
    },
    {
      "cell_type": "markdown",
      "source": [
        "Null Hypothesis: The percentage of prisoners convicted of a felony without a training programme (control group) is equal or lower than with training progamme (1-3 years).\n",
        "\n",
        "Alternate Hypothesis: The percentage of prisoners convicted of a felony without a training programme (control group) is higher than the proportion of prisoners with training progamme to recidivism (1-3 years).\n",
        "\n",
        "The significance level p=0.05 that means our p-value must be greater than 95 percent to reject the null hypothesis.\n",
        "\n",
        "MATEHMATICAL FORMULA\n",
        "\n",
        "Ho: P0 - P1 >= 0\n",
        "\n",
        "Ha: P0 - P1 < 0\n",
        "\n",
        "P0= 11.7 P1= 10.0"
      ],
      "metadata": {
        "id": "pVcvteZoz2Ki"
      }
    },
    {
      "cell_type": "markdown",
      "metadata": {
        "run_control": {
          "frozen": false,
          "read_only": false
        },
        "id": "RKP95uHMsaw6"
      },
      "source": [
        " look up data table and insert the appropriate values to get the appropriate result! you can use the functions I defined above, with different arguments."
      ]
    },
    {
      "cell_type": "raw",
      "metadata": {
        "id": "pL0eD9F9saw6"
      },
      "source": [
        "P_0=...\n",
        "P_1=...\n",
        "\n",
        "\n",
        "z_3y = ...\n"
      ]
    },
    {
      "cell_type": "raw",
      "metadata": {
        "id": "pFInskvusaw6"
      },
      "source": [
        "p_3y=...\n",
        "\n",
        "report_result..."
      ]
    },
    {
      "cell_type": "code",
      "source": [
        "# first thing: choose your significance threshold\n",
        "alpha=0.05\n",
        "\n",
        "# fractions\n",
        "# 0 for control group, 1 for program group\n",
        "\n",
        "P_0 = 11.7 * 0.01\n",
        "P_1 = 10.0 * 0.01\n",
        "\n",
        "if P_0 - P_1 >= 0:\n",
        "    # we are done\n",
        "    print (\"the Null holds\")\n",
        "else:\n",
        "    print (\"we must assess the statistical significance\")\n",
        "\n",
        "#sample sizes\n",
        "\n",
        "n_0 = 409\n",
        "n_1 = 568\n",
        "\n",
        "#lets get the counts by multiplying by the sample size\n",
        "\n",
        "Nt_0 = P_0 * n_0\n",
        "Nt_1 = P_1 * n_1"
      ],
      "metadata": {
        "colab": {
          "base_uri": "https://localhost:8080/"
        },
        "id": "vgS9KSHh3hGi",
        "outputId": "44301a9a-52d4-41bf-c06b-81a089a2219b"
      },
      "execution_count": 9,
      "outputs": [
        {
          "output_type": "stream",
          "name": "stdout",
          "text": [
            "the Null holds\n"
          ]
        }
      ]
    },
    {
      "cell_type": "markdown",
      "source": [
        "In this case, the code finds that P₀ - P₁ >= 0, meaning the null hypothesis holds. This suggests that there is no statistically significant difference in the proportion of prisoners convicted of a felony between the control group and the program group."
      ],
      "metadata": {
        "id": "hRxw4XWZ3mHx"
      }
    },
    {
      "cell_type": "markdown",
      "metadata": {
        "run_control": {
          "frozen": false,
          "read_only": false
        },
        "id": "8Itnvilnsaw6"
      },
      "source": [
        "# Now lets do it with the $\\chi^2$ test"
      ]
    },
    {
      "cell_type": "markdown",
      "metadata": {
        "run_control": {
          "frozen": false,
          "read_only": false
        },
        "id": "P99ye65gsaw6"
      },
      "source": [
        "this analysis can also be done with the $\\chi^2$ test, and the  $\\chi^2$ distribution,\n",
        "\n",
        "see  flowcharts for how to choose a test and \"Statistics In a Nutshell Chapter 4\", or http://math.hws.edu/javamath/ryan/ChiSquare.html (if you are really just interested in the formula at face value)"
      ]
    },
    {
      "cell_type": "markdown",
      "metadata": {
        "run_control": {
          "frozen": false,
          "read_only": false
        },
        "id": "ogI0exy2saw6"
      },
      "source": [
        "** The chisq statistics tests the statistics calculated as : **\n",
        "\n",
        "$\\chi^2 = \\sum_{i} \\frac{(observation_i - expectation_i)^2}{expectation_i}$\n",
        "\n",
        " against a chi sq distribution.\n",
        " If we talk about sample fractions  that is\n",
        "\n",
        "$\\chi^2 = \\sum_i \\frac{(f_{i,observed} - f_{i,expectated})^2}{f_{i,expected}}$\n",
        "\n",
        " Where _i_ indicates the sum over _each cell_.\n",
        " turns out this quantity is distributed according to a chi square distribution, so if i get the $\\chi^2$ statistics i can compare it to the full chisq distribution and see how far in the tail it is\n",
        "\n",
        " The trickiest part (but not that tricky) is to figure out how to construct the table of values. please see Statistics In a Nutshell Chapter 4, for our data for example: Thisis called a CONTINGENCY TABLE"
      ]
    },
    {
      "cell_type": "markdown",
      "metadata": {
        "run_control": {
          "frozen": false,
          "read_only": false
        },
        "id": "pVd7dJoKsaw7"
      },
      "source": [
        "|                 |     success         | failure|    |               \n",
        "|-----------------|:-------------------:|:-------------------:|---------------------------|\n",
        "| test sample     | number of successes in test    | number of failures in test    | number members of test sample |\n",
        "| control sample  | number of successes in control | number of failures in control | number members of control sample|\n",
        "|                 | total successes                |  total failures               | number of all members         |\n",
        "\n",
        "|employed in subsadized job |     employed          | not employed     |                   \n",
        "|---------------------------|:---------------------:|------------------|---------------------------|\n",
        "| test sample               | $0.701*564$           | $0.299*564$      | 564                       |\n",
        "| control sample            | $0.035*409$           | $0.965*4.09$     | 409                       |\n",
        "|                           |                       |                  |                           |\n",
        "| total                     | 409.679               |  562.912         | 973                       |"
      ]
    },
    {
      "cell_type": "markdown",
      "metadata": {
        "run_control": {
          "frozen": false,
          "read_only": false
        },
        "id": "aIbuppQIsaw7"
      },
      "source": [
        " for each cell the expected ratio is the product of the total of all rows and all columns, devided by the total"
      ]
    },
    {
      "cell_type": "markdown",
      "metadata": {
        "run_control": {
          "frozen": false,
          "read_only": false
        },
        "id": "4WSOJ5qtsaw7"
      },
      "source": [
        "** FOR EACH CELL: **\n",
        "**  expected_cell = $\\frac{row~tot * col~tot}{total}$ **\n"
      ]
    },
    {
      "cell_type": "code",
      "source": [
        "!wget https://raw.githubusercontent.com/fedhere/PUS2024/refs/heads/main/HW3/evalChisq.py"
      ],
      "metadata": {
        "colab": {
          "base_uri": "https://localhost:8080/"
        },
        "id": "3sF1vRBC5va7",
        "outputId": "d3e92288-0f96-4ba6-ddcf-7ffc6355095b"
      },
      "execution_count": 10,
      "outputs": [
        {
          "output_type": "stream",
          "name": "stdout",
          "text": [
            "--2024-09-26 15:10:28--  https://raw.githubusercontent.com/fedhere/PUS2024/refs/heads/main/HW3/evalChisq.py\n",
            "Resolving raw.githubusercontent.com (raw.githubusercontent.com)... 185.199.111.133, 185.199.109.133, 185.199.110.133, ...\n",
            "Connecting to raw.githubusercontent.com (raw.githubusercontent.com)|185.199.111.133|:443... connected.\n",
            "HTTP request sent, awaiting response... 200 OK\n",
            "Length: 325 [text/plain]\n",
            "Saving to: ‘evalChisq.py’\n",
            "\n",
            "evalChisq.py        100%[===================>]     325  --.-KB/s    in 0s      \n",
            "\n",
            "2024-09-26 15:10:28 (2.83 MB/s) - ‘evalChisq.py’ saved [325/325]\n",
            "\n"
          ]
        }
      ]
    },
    {
      "cell_type": "code",
      "execution_count": 11,
      "metadata": {
        "ExecuteTime": {
          "end_time": "2018-10-03T03:56:28.895811Z",
          "start_time": "2018-10-03T03:56:28.859130Z"
        },
        "run_control": {
          "frozen": false,
          "read_only": false
        },
        "id": "V6-Uu-oRsaw7"
      },
      "outputs": [],
      "source": [
        "from evalChisq import evalChisq"
      ]
    },
    {
      "cell_type": "code",
      "execution_count": 12,
      "metadata": {
        "ExecuteTime": {
          "end_time": "2018-10-03T03:56:28.927003Z",
          "start_time": "2018-10-03T03:56:28.902307Z"
        },
        "run_control": {
          "frozen": false,
          "read_only": false
        },
        "id": "-_0oln2wsaw7",
        "outputId": "ec991586-cc99-4c18-fff9-9918add35930",
        "colab": {
          "base_uri": "https://localhost:8080/"
        }
      },
      "outputs": [
        {
          "output_type": "stream",
          "name": "stdout",
          "text": [
            "436.22346257536003\n"
          ]
        }
      ],
      "source": [
        "Ntot = 973 # a + b + c + d = tot\n",
        "\n",
        "sample_values = np.array([[0.701 * 564, 0.299 * 564], [0.0305 * 409, 0.965 * 409]])\n",
        "\n",
        "print (evalChisq(sample_values))"
      ]
    },
    {
      "cell_type": "markdown",
      "metadata": {
        "run_control": {
          "frozen": false,
          "read_only": false
        },
        "id": "GRBarzHpsaw7"
      },
      "source": [
        "This number must be compared to the chi sq distribution.\n",
        "You must calculate the number of degrees of freedom forthis experiment.\n",
        "Generally: DOF = Number of observations - number of Independent Variables\n",
        "\n",
        "so here DOF = 1. Now you can look at the table below and draw conclusions about the rejection of the Null"
      ]
    },
    {
      "cell_type": "markdown",
      "metadata": {
        "run_control": {
          "frozen": false,
          "read_only": false
        },
        "id": "cE-1ouhmsaw7"
      },
      "source": [
        "432 is hella larger then 3.84\n",
        "\n",
        "why am i mentioning 3.84?\n",
        "\n",
        "how does the chi square statistic that you derived compare?\n",
        "\n",
        "please  state what that means in terms of your Null hypothesis in a markdown cell below!"
      ]
    },
    {
      "cell_type": "markdown",
      "source": [
        "Interpretation:\n",
        "\n",
        "A chi-square test statistic of 436.22346257536003 with 1 degree of freedom is a very large value. This suggests a strong association between the two variables  in the data."
      ],
      "metadata": {
        "id": "PpI06Ezp9GKG"
      }
    },
    {
      "cell_type": "markdown",
      "source": [
        "You mention 3.84 as that is the statistically significant value based on the chi square table."
      ],
      "metadata": {
        "id": "lMYJmsZF8OJW"
      }
    },
    {
      "cell_type": "markdown",
      "metadata": {
        "run_control": {
          "frozen": false,
          "read_only": false
        },
        "id": "DdWIL5P2saw7"
      },
      "source": [
        "# !!!!!! TODO FOR YOU!\n",
        "lets see what the chi sq statistics says about the conviction for fellonies (row 10)"
      ]
    },
    {
      "cell_type": "markdown",
      "source": [
        "Hypothesis Testing:\n",
        "\n",
        "Null Hypothesis (H₀): There is no association between group membership (control or program) and the outcome (convicted of a felony or not). In other words, the proportions of felony convictions are the same in both groups.\n",
        "\n",
        "Alternative Hypothesis (Hₐ): There is an association between group membership and the outcome. In other words, the proportions of felony convictions are different between the two groups.\n",
        "\n",
        "A chi-square test of independence is appropriate for this scenario. It tests whether there is a significant association between two categorical variables (group membership and felony conviction).\n",
        "\n",
        "The alpa is 0.05%\n"
      ],
      "metadata": {
        "id": "Nigfih2nyVqM"
      }
    },
    {
      "cell_type": "markdown",
      "metadata": {
        "run_control": {
          "frozen": false,
          "read_only": false
        },
        "id": "ri9ZwnVLsaw7"
      },
      "source": [
        "* fill in the contingency table below *\n",
        "\n",
        "|convicted of a fellony     |     yes   | no        |                   \n",
        "|---------------------------|-----------|-----------|----------------|\n",
        "| test sample               |     56.8  511.2     |   568   |                |\n",
        "| control sample            |     47.85 |361.15     |409                |\n",
        "|                           |           |           |                |\n",
        "| total                     |    104.65 |872.35         977  |                ||\n",
        "\n",
        "\n",
        "convicted of a fellony     |     yes   | no        |     total              \n",
        "|---------------------------|-----------|-----------|----------------|\n",
        "| test sample               |     56.8  511.2     |   568   |                |\n",
        "| control sample            |     47.85 |361.15     |409                |\n",
        "|                           |           |           |                |\n",
        "| total                     |    104.65 |872.35         977  |                |"
      ]
    },
    {
      "cell_type": "markdown",
      "metadata": {
        "collapsed": true,
        "run_control": {
          "frozen": false,
          "read_only": false
        },
        "id": "omfE-dJlsaw7"
      },
      "source": [
        "continue..."
      ]
    },
    {
      "cell_type": "code",
      "source": [
        "# fractions\n",
        "# 0 for control group, 1 for program group\n",
        "\n",
        "P_0 = 11.7 * 0.01\n",
        "P_1 = 10.0 * 0.01\n",
        "\n",
        "print(P_0)\n",
        "print(P_1)"
      ],
      "metadata": {
        "colab": {
          "base_uri": "https://localhost:8080/"
        },
        "id": "ePri2usCydLP",
        "outputId": "c8e46c7a-e724-47b4-b879-05964154f394"
      },
      "execution_count": 13,
      "outputs": [
        {
          "output_type": "stream",
          "name": "stdout",
          "text": [
            "0.11699999999999999\n",
            "0.1\n"
          ]
        }
      ]
    },
    {
      "cell_type": "code",
      "source": [
        "Ntot = 977 # a + b + c + d = tot\n",
        "\n",
        "sample_values = np.array([[0.1 * 568, 0.9 * 568], [0.116 * 409, 0.894 * 409]])\n",
        "\n",
        "print (evalChisq(sample_values))"
      ],
      "metadata": {
        "colab": {
          "base_uri": "https://localhost:8080/"
        },
        "id": "e4ELzmJCyvNK",
        "outputId": "596fdcff-feb0-4237-b49e-fed54ee613a8"
      },
      "execution_count": 15,
      "outputs": [
        {
          "output_type": "stream",
          "name": "stdout",
          "text": [
            "0.5554784876474075\n"
          ]
        }
      ]
    },
    {
      "cell_type": "markdown",
      "source": [],
      "metadata": {
        "id": "nljBhpa8yc5Q"
      }
    },
    {
      "cell_type": "markdown",
      "source": [
        "A chi-square statistic of 0.55 suggests that there is no strong association between group membership (control or program) and the outcome (convicted of a felony or not). This means that the observed differences in the proportions of felony convictions between the two groups are likely due to chance, and there is not enough evidence to conclude that the program has a significant impact on recidivism rates related to felony convictions.\n",
        "\n",
        "Interpretation:\n",
        "\n",
        "P-value: The p-value is 0.455, which is significantly greater than the typical alpha level of 0.05. This means we fail to reject the null hypothesis.\n",
        "\n",
        "Null Hypothesis: There is no association between group membership (control or program) and the outcome (convicted of a felony or not).\n",
        "\n",
        "Conclusion: Based on the data, there is not enough evidence to suggest that the program has a significant impact on the likelihood of former prisoners being convicted of a felony. The observed differences between the two groups could be due to chance."
      ],
      "metadata": {
        "id": "aGrruF-xzHK6"
      }
    }
  ],
  "metadata": {
    "anaconda-cloud": {},
    "kernelspec": {
      "display_name": "Python 3",
      "language": "python",
      "name": "python3"
    },
    "language_info": {
      "codemirror_mode": {
        "name": "ipython",
        "version": 3
      },
      "file_extension": ".py",
      "mimetype": "text/x-python",
      "name": "python",
      "nbconvert_exporter": "python",
      "pygments_lexer": "ipython3",
      "version": "3.6.5"
    },
    "latex_envs": {
      "LaTeX_envs_menu_present": true,
      "bibliofile": "biblio.bib",
      "cite_by": "apalike",
      "current_citInitial": 1,
      "eqLabelWithNumbers": true,
      "eqNumInitial": 1,
      "hotkeys": {
        "equation": "Ctrl-E",
        "itemize": "Ctrl-I"
      },
      "labels_anchors": false,
      "latex_user_defs": false,
      "report_style_numbering": false,
      "user_envs_cfg": false
    },
    "toc": {
      "colors": {
        "hover_highlight": "#DAA520",
        "running_highlight": "#FF0000",
        "selected_highlight": "#FFD700"
      },
      "moveMenuLeft": true,
      "nav_menu": {
        "height": "513px",
        "width": "251px"
      },
      "navigate_menu": true,
      "number_sections": true,
      "sideBar": true,
      "threshold": 4,
      "toc_cell": false,
      "toc_section_display": "block",
      "toc_window_display": false
    },
    "colab": {
      "provenance": [],
      "include_colab_link": true
    }
  },
  "nbformat": 4,
  "nbformat_minor": 0
}