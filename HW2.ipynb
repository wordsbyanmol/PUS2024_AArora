{
  "nbformat": 4,
  "nbformat_minor": 0,
  "metadata": {
    "anaconda-cloud": {},
    "kernelspec": {
      "display_name": "Python 2",
      "language": "python",
      "name": "python2"
    },
    "language_info": {
      "codemirror_mode": {
        "name": "ipython",
        "version": 2
      },
      "file_extension": ".py",
      "mimetype": "text/x-python",
      "name": "python",
      "nbconvert_exporter": "python",
      "pygments_lexer": "ipython2",
      "version": "2.7.12"
    },
    "colab": {
      "provenance": [],
      "name": "HW2",
      "include_colab_link": true
    }
  },
  "cells": [
    {
      "cell_type": "markdown",
      "metadata": {
        "id": "view-in-github",
        "colab_type": "text"
      },
      "source": [
        "<a href=\"https://colab.research.google.com/github/wordsbyanmol/PUS2024_AArora/blob/main/HW2.ipynb\" target=\"_parent\"><img src=\"https://colab.research.google.com/assets/colab-badge.svg\" alt=\"Open In Colab\"/></a>"
      ]
    },
    {
      "cell_type": "markdown",
      "metadata": {
        "id": "4aESq4aYc3Tw"
      },
      "source": [
        "# Written by Federica B. Bianco @fedhere\n",
        "# for UDel PUS\n",
        "# This is my example of Assignment 2.\n",
        "# Assignment 2 you should design your own investigation into the citibike data.\n",
        "- # Come up with a question about the Citibike data usage. It can be anything that involves Categorical data.\n",
        "At this point of the class it is easier to run tests of proportions or similar, and work with categorical data. Categorical cn be anhything that can be punt into classes (e.g. day/night, male/female, 2014/2015/2016.... as long as you set up your experiment the proper way!)\n",
        "- # Choose the significance threshold\n",
        "- # Clearly state they Null and Alternate hypothesis (in words and a math formula)\n",
        "- # Wrangle the data so that it is ready for your analysis.\n",
        "- # Explore the data statistical properties (mean, standard deviation...)\n",
        "- # Answer your question with a Z test\n",
        "- # Answer your question with a xhi square test of proportions"
      ]
    },
    {
      "cell_type": "code",
      "metadata": {
        "scrolled": true,
        "id": "LEcE6IScc3Tx",
        "colab": {
          "base_uri": "https://localhost:8080/"
        },
        "outputId": "02355818-8851-4fba-ee2f-46acd9256838"
      },
      "source": [
        "from __future__  import print_function, division\n",
        "import pylab as plt\n",
        "import pandas as pd\n",
        "import numpy as np\n",
        "import numpy as np\n",
        "import statsmodels.api as sm\n",
        "\n",
        "%pylab inline"
      ],
      "execution_count": null,
      "outputs": [
        {
          "output_type": "stream",
          "name": "stdout",
          "text": [
            "Populating the interactive namespace from numpy and matplotlib\n"
          ]
        },
        {
          "output_type": "stream",
          "name": "stderr",
          "text": [
            "/usr/local/lib/python3.10/dist-packages/IPython/core/magics/pylab.py:159: UserWarning: pylab import has clobbered these variables: ['plt']\n",
            "`%matplotlib` prevents importing * from pylab and numpy\n",
            "  warn(\"pylab import has clobbered these variables: %s\"  % clobbered +\n"
          ]
        }
      ]
    },
    {
      "cell_type": "markdown",
      "source": [
        "**IDEA**\n",
        "The proportion of people that are commuters could be lower than subscribers to choose biking for commuting in May. This may be the case because subscribers have subscribed to the service in advance.\n",
        "\n",
        "Null\n",
        "The proportion of people that are Commuters are same or higher than Subscribers to choose citi biking for commuting in May.\n",
        "\n",
        "\n",
        "Alternate\n",
        "The proportion of people that are Commuters are lower than subscribers to choose citi biking for commuting in May.\n",
        "\n",
        "equation1 = \"H0: Cusers/Ctotal >= Susers/Stotal\"\n",
        "equation2 = \"H1: Cusers/Ctotal < Susers/Stotal\"\n",
        "\n",
        "I will use a significance level  𝛼=0.05\n",
        "\n",
        "The Z-test for proportions is valid as the data points (users) are independent.\n",
        "\n",
        "For a one-tailed Z-test at 95% confidence level, the critical value is approximately -1.645. If the calculated Z value is less than -1.645, we reject the null hypothesis.\n",
        "\n"
      ],
      "metadata": {
        "id": "wqimHcBxoMBc"
      }
    },
    {
      "cell_type": "markdown",
      "metadata": {
        "id": "I-bfLntac3T7"
      },
      "source": [
        "## I am starting with a single month of data:  reading data from citibike csv file from May 2024\n",
        "\n",
        "what I want is the date and time of the beginning of each trip. pandas has an easy method to read csv files, and an easy method to convert strinds to dates.\n",
        "\n",
        "if i read a csv file with pandas the content is stored in a \"DataFrame\". You can think of it as a python dictionary in many ways,but it has many added capabilities: it is easy to convert variables within it, it knows how to plot itself, etc."
      ]
    },
    {
      "cell_type": "code",
      "source": [
        "\n",
        "import pandas as pd\n",
        "import zipfile\n",
        "import requests\n",
        "from io import BytesIO"
      ],
      "metadata": {
        "id": "Q0VkPnqdiPNS"
      },
      "execution_count": null,
      "outputs": []
    },
    {
      "cell_type": "code",
      "source": [
        "datestring = '2019'\n",
        "\n",
        "# Define the URL of the zip file\n",
        "url = \"https://s3.amazonaws.com/tripdata/\" + datestring + \"-citibike-tripdata.zip\"\n",
        "\n",
        "# Download the zip file\n",
        "response = requests.get(url)\n",
        "zip_file = zipfile.ZipFile(BytesIO(response.content))"
      ],
      "metadata": {
        "id": "eIDITjcUikJg"
      },
      "execution_count": null,
      "outputs": []
    },
    {
      "cell_type": "code",
      "source": [
        "zip_file.extractall() #extract all the files in the zipped folder locally"
      ],
      "metadata": {
        "id": "D8g6czYcramg"
      },
      "execution_count": null,
      "outputs": []
    },
    {
      "cell_type": "markdown",
      "source": [
        "I am going to look in the now local files (extracted with the command above) to find what I want"
      ],
      "metadata": {
        "id": "ZJEVx1FIspGt"
      }
    },
    {
      "cell_type": "code",
      "source": [
        "!ls"
      ],
      "metadata": {
        "id": "5QhAQ7jir2KT",
        "outputId": "d7fdd7d2-fc1a-42c4-dae5-6c253a201dd0",
        "colab": {
          "base_uri": "https://localhost:8080/"
        }
      },
      "execution_count": null,
      "outputs": [
        {
          "output_type": "stream",
          "name": "stdout",
          "text": [
            "2019-citibike-tripdata\tdrive  __MACOSX  sample_data\n"
          ]
        }
      ]
    },
    {
      "cell_type": "code",
      "source": [
        "!ls 2019-citibike-tripdata"
      ],
      "metadata": {
        "id": "wNuOo0qPrvbd",
        "outputId": "8409773e-eb91-472a-85b2-0751793b9b86",
        "colab": {
          "base_uri": "https://localhost:8080/"
        }
      },
      "execution_count": null,
      "outputs": [
        {
          "output_type": "stream",
          "name": "stdout",
          "text": [
            "10_October   12_December  2_February  4_April  6_June  8_August\n",
            "11_November  1_January\t  3_March     5_May    7_July  9_September\n"
          ]
        }
      ]
    },
    {
      "cell_type": "code",
      "source": [
        "!ls 2019-citibike-tripdata/5_May"
      ],
      "metadata": {
        "id": "cNe8-bkOr4K8",
        "outputId": "aa03e29a-7874-4d61-85ef-ec0deee59ab4",
        "colab": {
          "base_uri": "https://localhost:8080/"
        }
      },
      "execution_count": null,
      "outputs": [
        {
          "output_type": "stream",
          "name": "stdout",
          "text": [
            "201905-citibike-tripdata_1.csv\t201905-citibike-tripdata_2.csv\n"
          ]
        }
      ]
    },
    {
      "cell_type": "code",
      "source": [
        "# Read the CSV file from the zip file\n",
        "cbMay19 = pd.read_csv(datestring + '-citibike-tripdata/5_May/' + datestring + '05-citibike-tripdata_1.csv')"
      ],
      "metadata": {
        "id": "S3zaIpCor_j3"
      },
      "execution_count": null,
      "outputs": []
    },
    {
      "cell_type": "code",
      "source": [
        "#Explore data\n",
        "cbMay19"
      ],
      "metadata": {
        "id": "DI46P5GAdWVT",
        "colab": {
          "base_uri": "https://localhost:8080/",
          "height": 649
        },
        "outputId": "95d24fb0-c5e9-459b-d5f7-92cc941dd476"
      },
      "execution_count": null,
      "outputs": [
        {
          "output_type": "execute_result",
          "data": {
            "text/plain": [
              "        tripduration                 starttime                  stoptime  \\\n",
              "0                139  2019-05-01 00:00:01.9010  2019-05-01 00:02:21.5170   \n",
              "1                754  2019-05-01 00:00:03.0210  2019-05-01 00:12:37.6920   \n",
              "2               2308  2019-05-01 00:00:04.6270  2019-05-01 00:38:33.1710   \n",
              "3                143  2019-05-01 00:00:19.3340  2019-05-01 00:02:42.5200   \n",
              "4                138  2019-05-01 00:00:22.1840  2019-05-01 00:02:40.6480   \n",
              "...              ...                       ...                       ...   \n",
              "999995          1688  2019-05-18 10:43:11.5260  2019-05-18 11:11:20.5010   \n",
              "999996           804  2019-05-18 10:43:12.1750  2019-05-18 10:56:37.0660   \n",
              "999997           150  2019-05-18 10:43:12.6190  2019-05-18 10:45:42.7890   \n",
              "999998           345  2019-05-18 10:43:13.2630  2019-05-18 10:48:58.7550   \n",
              "999999          1413  2019-05-18 10:43:13.8940  2019-05-18 11:06:47.5840   \n",
              "\n",
              "        start station id             start station name  \\\n",
              "0                    447                8 Ave & W 52 St   \n",
              "1                   3258               W 27 St & 10 Ave   \n",
              "2                   3093           N 6 St & Bedford Ave   \n",
              "3                   3486      Schermerhorn St & Bond St   \n",
              "4                    388               W 26 St & 10 Ave   \n",
              "...                  ...                            ...   \n",
              "999995               525               W 34 St & 11 Ave   \n",
              "999996              3576       Park Pl & Vanderbilt Ave   \n",
              "999997               416  Cumberland St & Lafayette Ave   \n",
              "999998               296           Division St & Bowery   \n",
              "999999              3528           Steinway St & 23 Ave   \n",
              "\n",
              "        start station latitude  start station longitude  end station id  \\\n",
              "0                    40.763707               -73.985162             423   \n",
              "1                    40.750182               -74.002184            3255   \n",
              "2                    40.717452               -73.958509            3676   \n",
              "3                    40.688417               -73.984517            3412   \n",
              "4                    40.749718               -74.002950             494   \n",
              "...                        ...                      ...             ...   \n",
              "999995               40.755942               -74.002116            3178   \n",
              "999996               40.676700               -73.969024             157   \n",
              "999997               40.687534               -73.972652             262   \n",
              "999998               40.714131               -73.997047             502   \n",
              "999999               40.771394               -73.907744            3126   \n",
              "\n",
              "                  end station name  end station latitude  \\\n",
              "0                  W 54 St & 9 Ave             40.765849   \n",
              "1                  8 Ave & W 31 St             40.750585   \n",
              "2       Van Brunt St & Van Dyke St             40.675833   \n",
              "3           Pacific St & Nevins St             40.685376   \n",
              "4                  W 26 St & 8 Ave             40.747348   \n",
              "...                            ...                   ...   \n",
              "999995      Riverside Dr & W 78 St             40.784145   \n",
              "999996     Henry St & Atlantic Ave             40.690893   \n",
              "999997             Washington Park             40.691782   \n",
              "999998         Henry St & Grand St             40.714215   \n",
              "999999         44 Dr & Jackson Ave             40.747182   \n",
              "\n",
              "        end station longitude  bikeid    usertype  birth year  gender  \n",
              "0                  -73.986905   31170  Subscriber        1983       1  \n",
              "1                  -73.994685   25560    Customer        1969       0  \n",
              "2                  -74.014726   33369  Subscriber        1978       1  \n",
              "3                  -73.983021   32041  Subscriber        1997       1  \n",
              "4                  -73.997236   35237  Subscriber        1967       1  \n",
              "...                       ...     ...         ...         ...     ...  \n",
              "999995             -73.983625   25733    Customer        1969       0  \n",
              "999996             -73.996123   29920  Subscriber        1981       1  \n",
              "999997             -73.973730   18835  Subscriber        1971       1  \n",
              "999998             -73.981346   34018  Subscriber        1983       1  \n",
              "999999             -73.943264   14576  Subscriber        1980       1  \n",
              "\n",
              "[1000000 rows x 15 columns]"
            ],
            "text/html": [
              "\n",
              "  <div id=\"df-1fdb2295-2f79-40b4-80ff-efc60d34e243\" class=\"colab-df-container\">\n",
              "    <div>\n",
              "<style scoped>\n",
              "    .dataframe tbody tr th:only-of-type {\n",
              "        vertical-align: middle;\n",
              "    }\n",
              "\n",
              "    .dataframe tbody tr th {\n",
              "        vertical-align: top;\n",
              "    }\n",
              "\n",
              "    .dataframe thead th {\n",
              "        text-align: right;\n",
              "    }\n",
              "</style>\n",
              "<table border=\"1\" class=\"dataframe\">\n",
              "  <thead>\n",
              "    <tr style=\"text-align: right;\">\n",
              "      <th></th>\n",
              "      <th>tripduration</th>\n",
              "      <th>starttime</th>\n",
              "      <th>stoptime</th>\n",
              "      <th>start station id</th>\n",
              "      <th>start station name</th>\n",
              "      <th>start station latitude</th>\n",
              "      <th>start station longitude</th>\n",
              "      <th>end station id</th>\n",
              "      <th>end station name</th>\n",
              "      <th>end station latitude</th>\n",
              "      <th>end station longitude</th>\n",
              "      <th>bikeid</th>\n",
              "      <th>usertype</th>\n",
              "      <th>birth year</th>\n",
              "      <th>gender</th>\n",
              "    </tr>\n",
              "  </thead>\n",
              "  <tbody>\n",
              "    <tr>\n",
              "      <th>0</th>\n",
              "      <td>139</td>\n",
              "      <td>2019-05-01 00:00:01.9010</td>\n",
              "      <td>2019-05-01 00:02:21.5170</td>\n",
              "      <td>447</td>\n",
              "      <td>8 Ave &amp; W 52 St</td>\n",
              "      <td>40.763707</td>\n",
              "      <td>-73.985162</td>\n",
              "      <td>423</td>\n",
              "      <td>W 54 St &amp; 9 Ave</td>\n",
              "      <td>40.765849</td>\n",
              "      <td>-73.986905</td>\n",
              "      <td>31170</td>\n",
              "      <td>Subscriber</td>\n",
              "      <td>1983</td>\n",
              "      <td>1</td>\n",
              "    </tr>\n",
              "    <tr>\n",
              "      <th>1</th>\n",
              "      <td>754</td>\n",
              "      <td>2019-05-01 00:00:03.0210</td>\n",
              "      <td>2019-05-01 00:12:37.6920</td>\n",
              "      <td>3258</td>\n",
              "      <td>W 27 St &amp; 10 Ave</td>\n",
              "      <td>40.750182</td>\n",
              "      <td>-74.002184</td>\n",
              "      <td>3255</td>\n",
              "      <td>8 Ave &amp; W 31 St</td>\n",
              "      <td>40.750585</td>\n",
              "      <td>-73.994685</td>\n",
              "      <td>25560</td>\n",
              "      <td>Customer</td>\n",
              "      <td>1969</td>\n",
              "      <td>0</td>\n",
              "    </tr>\n",
              "    <tr>\n",
              "      <th>2</th>\n",
              "      <td>2308</td>\n",
              "      <td>2019-05-01 00:00:04.6270</td>\n",
              "      <td>2019-05-01 00:38:33.1710</td>\n",
              "      <td>3093</td>\n",
              "      <td>N 6 St &amp; Bedford Ave</td>\n",
              "      <td>40.717452</td>\n",
              "      <td>-73.958509</td>\n",
              "      <td>3676</td>\n",
              "      <td>Van Brunt St &amp; Van Dyke St</td>\n",
              "      <td>40.675833</td>\n",
              "      <td>-74.014726</td>\n",
              "      <td>33369</td>\n",
              "      <td>Subscriber</td>\n",
              "      <td>1978</td>\n",
              "      <td>1</td>\n",
              "    </tr>\n",
              "    <tr>\n",
              "      <th>3</th>\n",
              "      <td>143</td>\n",
              "      <td>2019-05-01 00:00:19.3340</td>\n",
              "      <td>2019-05-01 00:02:42.5200</td>\n",
              "      <td>3486</td>\n",
              "      <td>Schermerhorn St &amp; Bond St</td>\n",
              "      <td>40.688417</td>\n",
              "      <td>-73.984517</td>\n",
              "      <td>3412</td>\n",
              "      <td>Pacific St &amp; Nevins St</td>\n",
              "      <td>40.685376</td>\n",
              "      <td>-73.983021</td>\n",
              "      <td>32041</td>\n",
              "      <td>Subscriber</td>\n",
              "      <td>1997</td>\n",
              "      <td>1</td>\n",
              "    </tr>\n",
              "    <tr>\n",
              "      <th>4</th>\n",
              "      <td>138</td>\n",
              "      <td>2019-05-01 00:00:22.1840</td>\n",
              "      <td>2019-05-01 00:02:40.6480</td>\n",
              "      <td>388</td>\n",
              "      <td>W 26 St &amp; 10 Ave</td>\n",
              "      <td>40.749718</td>\n",
              "      <td>-74.002950</td>\n",
              "      <td>494</td>\n",
              "      <td>W 26 St &amp; 8 Ave</td>\n",
              "      <td>40.747348</td>\n",
              "      <td>-73.997236</td>\n",
              "      <td>35237</td>\n",
              "      <td>Subscriber</td>\n",
              "      <td>1967</td>\n",
              "      <td>1</td>\n",
              "    </tr>\n",
              "    <tr>\n",
              "      <th>...</th>\n",
              "      <td>...</td>\n",
              "      <td>...</td>\n",
              "      <td>...</td>\n",
              "      <td>...</td>\n",
              "      <td>...</td>\n",
              "      <td>...</td>\n",
              "      <td>...</td>\n",
              "      <td>...</td>\n",
              "      <td>...</td>\n",
              "      <td>...</td>\n",
              "      <td>...</td>\n",
              "      <td>...</td>\n",
              "      <td>...</td>\n",
              "      <td>...</td>\n",
              "      <td>...</td>\n",
              "    </tr>\n",
              "    <tr>\n",
              "      <th>999995</th>\n",
              "      <td>1688</td>\n",
              "      <td>2019-05-18 10:43:11.5260</td>\n",
              "      <td>2019-05-18 11:11:20.5010</td>\n",
              "      <td>525</td>\n",
              "      <td>W 34 St &amp; 11 Ave</td>\n",
              "      <td>40.755942</td>\n",
              "      <td>-74.002116</td>\n",
              "      <td>3178</td>\n",
              "      <td>Riverside Dr &amp; W 78 St</td>\n",
              "      <td>40.784145</td>\n",
              "      <td>-73.983625</td>\n",
              "      <td>25733</td>\n",
              "      <td>Customer</td>\n",
              "      <td>1969</td>\n",
              "      <td>0</td>\n",
              "    </tr>\n",
              "    <tr>\n",
              "      <th>999996</th>\n",
              "      <td>804</td>\n",
              "      <td>2019-05-18 10:43:12.1750</td>\n",
              "      <td>2019-05-18 10:56:37.0660</td>\n",
              "      <td>3576</td>\n",
              "      <td>Park Pl &amp; Vanderbilt Ave</td>\n",
              "      <td>40.676700</td>\n",
              "      <td>-73.969024</td>\n",
              "      <td>157</td>\n",
              "      <td>Henry St &amp; Atlantic Ave</td>\n",
              "      <td>40.690893</td>\n",
              "      <td>-73.996123</td>\n",
              "      <td>29920</td>\n",
              "      <td>Subscriber</td>\n",
              "      <td>1981</td>\n",
              "      <td>1</td>\n",
              "    </tr>\n",
              "    <tr>\n",
              "      <th>999997</th>\n",
              "      <td>150</td>\n",
              "      <td>2019-05-18 10:43:12.6190</td>\n",
              "      <td>2019-05-18 10:45:42.7890</td>\n",
              "      <td>416</td>\n",
              "      <td>Cumberland St &amp; Lafayette Ave</td>\n",
              "      <td>40.687534</td>\n",
              "      <td>-73.972652</td>\n",
              "      <td>262</td>\n",
              "      <td>Washington Park</td>\n",
              "      <td>40.691782</td>\n",
              "      <td>-73.973730</td>\n",
              "      <td>18835</td>\n",
              "      <td>Subscriber</td>\n",
              "      <td>1971</td>\n",
              "      <td>1</td>\n",
              "    </tr>\n",
              "    <tr>\n",
              "      <th>999998</th>\n",
              "      <td>345</td>\n",
              "      <td>2019-05-18 10:43:13.2630</td>\n",
              "      <td>2019-05-18 10:48:58.7550</td>\n",
              "      <td>296</td>\n",
              "      <td>Division St &amp; Bowery</td>\n",
              "      <td>40.714131</td>\n",
              "      <td>-73.997047</td>\n",
              "      <td>502</td>\n",
              "      <td>Henry St &amp; Grand St</td>\n",
              "      <td>40.714215</td>\n",
              "      <td>-73.981346</td>\n",
              "      <td>34018</td>\n",
              "      <td>Subscriber</td>\n",
              "      <td>1983</td>\n",
              "      <td>1</td>\n",
              "    </tr>\n",
              "    <tr>\n",
              "      <th>999999</th>\n",
              "      <td>1413</td>\n",
              "      <td>2019-05-18 10:43:13.8940</td>\n",
              "      <td>2019-05-18 11:06:47.5840</td>\n",
              "      <td>3528</td>\n",
              "      <td>Steinway St &amp; 23 Ave</td>\n",
              "      <td>40.771394</td>\n",
              "      <td>-73.907744</td>\n",
              "      <td>3126</td>\n",
              "      <td>44 Dr &amp; Jackson Ave</td>\n",
              "      <td>40.747182</td>\n",
              "      <td>-73.943264</td>\n",
              "      <td>14576</td>\n",
              "      <td>Subscriber</td>\n",
              "      <td>1980</td>\n",
              "      <td>1</td>\n",
              "    </tr>\n",
              "  </tbody>\n",
              "</table>\n",
              "<p>1000000 rows × 15 columns</p>\n",
              "</div>\n",
              "    <div class=\"colab-df-buttons\">\n",
              "\n",
              "  <div class=\"colab-df-container\">\n",
              "    <button class=\"colab-df-convert\" onclick=\"convertToInteractive('df-1fdb2295-2f79-40b4-80ff-efc60d34e243')\"\n",
              "            title=\"Convert this dataframe to an interactive table.\"\n",
              "            style=\"display:none;\">\n",
              "\n",
              "  <svg xmlns=\"http://www.w3.org/2000/svg\" height=\"24px\" viewBox=\"0 -960 960 960\">\n",
              "    <path d=\"M120-120v-720h720v720H120Zm60-500h600v-160H180v160Zm220 220h160v-160H400v160Zm0 220h160v-160H400v160ZM180-400h160v-160H180v160Zm440 0h160v-160H620v160ZM180-180h160v-160H180v160Zm440 0h160v-160H620v160Z\"/>\n",
              "  </svg>\n",
              "    </button>\n",
              "\n",
              "  <style>\n",
              "    .colab-df-container {\n",
              "      display:flex;\n",
              "      gap: 12px;\n",
              "    }\n",
              "\n",
              "    .colab-df-convert {\n",
              "      background-color: #E8F0FE;\n",
              "      border: none;\n",
              "      border-radius: 50%;\n",
              "      cursor: pointer;\n",
              "      display: none;\n",
              "      fill: #1967D2;\n",
              "      height: 32px;\n",
              "      padding: 0 0 0 0;\n",
              "      width: 32px;\n",
              "    }\n",
              "\n",
              "    .colab-df-convert:hover {\n",
              "      background-color: #E2EBFA;\n",
              "      box-shadow: 0px 1px 2px rgba(60, 64, 67, 0.3), 0px 1px 3px 1px rgba(60, 64, 67, 0.15);\n",
              "      fill: #174EA6;\n",
              "    }\n",
              "\n",
              "    .colab-df-buttons div {\n",
              "      margin-bottom: 4px;\n",
              "    }\n",
              "\n",
              "    [theme=dark] .colab-df-convert {\n",
              "      background-color: #3B4455;\n",
              "      fill: #D2E3FC;\n",
              "    }\n",
              "\n",
              "    [theme=dark] .colab-df-convert:hover {\n",
              "      background-color: #434B5C;\n",
              "      box-shadow: 0px 1px 3px 1px rgba(0, 0, 0, 0.15);\n",
              "      filter: drop-shadow(0px 1px 2px rgba(0, 0, 0, 0.3));\n",
              "      fill: #FFFFFF;\n",
              "    }\n",
              "  </style>\n",
              "\n",
              "    <script>\n",
              "      const buttonEl =\n",
              "        document.querySelector('#df-1fdb2295-2f79-40b4-80ff-efc60d34e243 button.colab-df-convert');\n",
              "      buttonEl.style.display =\n",
              "        google.colab.kernel.accessAllowed ? 'block' : 'none';\n",
              "\n",
              "      async function convertToInteractive(key) {\n",
              "        const element = document.querySelector('#df-1fdb2295-2f79-40b4-80ff-efc60d34e243');\n",
              "        const dataTable =\n",
              "          await google.colab.kernel.invokeFunction('convertToInteractive',\n",
              "                                                    [key], {});\n",
              "        if (!dataTable) return;\n",
              "\n",
              "        const docLinkHtml = 'Like what you see? Visit the ' +\n",
              "          '<a target=\"_blank\" href=https://colab.research.google.com/notebooks/data_table.ipynb>data table notebook</a>'\n",
              "          + ' to learn more about interactive tables.';\n",
              "        element.innerHTML = '';\n",
              "        dataTable['output_type'] = 'display_data';\n",
              "        await google.colab.output.renderOutput(dataTable, element);\n",
              "        const docLink = document.createElement('div');\n",
              "        docLink.innerHTML = docLinkHtml;\n",
              "        element.appendChild(docLink);\n",
              "      }\n",
              "    </script>\n",
              "  </div>\n",
              "\n",
              "\n",
              "<div id=\"df-02d0ed1f-d9b2-440e-9618-90661a87329a\">\n",
              "  <button class=\"colab-df-quickchart\" onclick=\"quickchart('df-02d0ed1f-d9b2-440e-9618-90661a87329a')\"\n",
              "            title=\"Suggest charts\"\n",
              "            style=\"display:none;\">\n",
              "\n",
              "<svg xmlns=\"http://www.w3.org/2000/svg\" height=\"24px\"viewBox=\"0 0 24 24\"\n",
              "     width=\"24px\">\n",
              "    <g>\n",
              "        <path d=\"M19 3H5c-1.1 0-2 .9-2 2v14c0 1.1.9 2 2 2h14c1.1 0 2-.9 2-2V5c0-1.1-.9-2-2-2zM9 17H7v-7h2v7zm4 0h-2V7h2v10zm4 0h-2v-4h2v4z\"/>\n",
              "    </g>\n",
              "</svg>\n",
              "  </button>\n",
              "\n",
              "<style>\n",
              "  .colab-df-quickchart {\n",
              "      --bg-color: #E8F0FE;\n",
              "      --fill-color: #1967D2;\n",
              "      --hover-bg-color: #E2EBFA;\n",
              "      --hover-fill-color: #174EA6;\n",
              "      --disabled-fill-color: #AAA;\n",
              "      --disabled-bg-color: #DDD;\n",
              "  }\n",
              "\n",
              "  [theme=dark] .colab-df-quickchart {\n",
              "      --bg-color: #3B4455;\n",
              "      --fill-color: #D2E3FC;\n",
              "      --hover-bg-color: #434B5C;\n",
              "      --hover-fill-color: #FFFFFF;\n",
              "      --disabled-bg-color: #3B4455;\n",
              "      --disabled-fill-color: #666;\n",
              "  }\n",
              "\n",
              "  .colab-df-quickchart {\n",
              "    background-color: var(--bg-color);\n",
              "    border: none;\n",
              "    border-radius: 50%;\n",
              "    cursor: pointer;\n",
              "    display: none;\n",
              "    fill: var(--fill-color);\n",
              "    height: 32px;\n",
              "    padding: 0;\n",
              "    width: 32px;\n",
              "  }\n",
              "\n",
              "  .colab-df-quickchart:hover {\n",
              "    background-color: var(--hover-bg-color);\n",
              "    box-shadow: 0 1px 2px rgba(60, 64, 67, 0.3), 0 1px 3px 1px rgba(60, 64, 67, 0.15);\n",
              "    fill: var(--button-hover-fill-color);\n",
              "  }\n",
              "\n",
              "  .colab-df-quickchart-complete:disabled,\n",
              "  .colab-df-quickchart-complete:disabled:hover {\n",
              "    background-color: var(--disabled-bg-color);\n",
              "    fill: var(--disabled-fill-color);\n",
              "    box-shadow: none;\n",
              "  }\n",
              "\n",
              "  .colab-df-spinner {\n",
              "    border: 2px solid var(--fill-color);\n",
              "    border-color: transparent;\n",
              "    border-bottom-color: var(--fill-color);\n",
              "    animation:\n",
              "      spin 1s steps(1) infinite;\n",
              "  }\n",
              "\n",
              "  @keyframes spin {\n",
              "    0% {\n",
              "      border-color: transparent;\n",
              "      border-bottom-color: var(--fill-color);\n",
              "      border-left-color: var(--fill-color);\n",
              "    }\n",
              "    20% {\n",
              "      border-color: transparent;\n",
              "      border-left-color: var(--fill-color);\n",
              "      border-top-color: var(--fill-color);\n",
              "    }\n",
              "    30% {\n",
              "      border-color: transparent;\n",
              "      border-left-color: var(--fill-color);\n",
              "      border-top-color: var(--fill-color);\n",
              "      border-right-color: var(--fill-color);\n",
              "    }\n",
              "    40% {\n",
              "      border-color: transparent;\n",
              "      border-right-color: var(--fill-color);\n",
              "      border-top-color: var(--fill-color);\n",
              "    }\n",
              "    60% {\n",
              "      border-color: transparent;\n",
              "      border-right-color: var(--fill-color);\n",
              "    }\n",
              "    80% {\n",
              "      border-color: transparent;\n",
              "      border-right-color: var(--fill-color);\n",
              "      border-bottom-color: var(--fill-color);\n",
              "    }\n",
              "    90% {\n",
              "      border-color: transparent;\n",
              "      border-bottom-color: var(--fill-color);\n",
              "    }\n",
              "  }\n",
              "</style>\n",
              "\n",
              "  <script>\n",
              "    async function quickchart(key) {\n",
              "      const quickchartButtonEl =\n",
              "        document.querySelector('#' + key + ' button');\n",
              "      quickchartButtonEl.disabled = true;  // To prevent multiple clicks.\n",
              "      quickchartButtonEl.classList.add('colab-df-spinner');\n",
              "      try {\n",
              "        const charts = await google.colab.kernel.invokeFunction(\n",
              "            'suggestCharts', [key], {});\n",
              "      } catch (error) {\n",
              "        console.error('Error during call to suggestCharts:', error);\n",
              "      }\n",
              "      quickchartButtonEl.classList.remove('colab-df-spinner');\n",
              "      quickchartButtonEl.classList.add('colab-df-quickchart-complete');\n",
              "    }\n",
              "    (() => {\n",
              "      let quickchartButtonEl =\n",
              "        document.querySelector('#df-02d0ed1f-d9b2-440e-9618-90661a87329a button');\n",
              "      quickchartButtonEl.style.display =\n",
              "        google.colab.kernel.accessAllowed ? 'block' : 'none';\n",
              "    })();\n",
              "  </script>\n",
              "</div>\n",
              "\n",
              "  <div id=\"id_c9dea5fa-19fd-45b3-b247-5fdb0fb40b89\">\n",
              "    <style>\n",
              "      .colab-df-generate {\n",
              "        background-color: #E8F0FE;\n",
              "        border: none;\n",
              "        border-radius: 50%;\n",
              "        cursor: pointer;\n",
              "        display: none;\n",
              "        fill: #1967D2;\n",
              "        height: 32px;\n",
              "        padding: 0 0 0 0;\n",
              "        width: 32px;\n",
              "      }\n",
              "\n",
              "      .colab-df-generate:hover {\n",
              "        background-color: #E2EBFA;\n",
              "        box-shadow: 0px 1px 2px rgba(60, 64, 67, 0.3), 0px 1px 3px 1px rgba(60, 64, 67, 0.15);\n",
              "        fill: #174EA6;\n",
              "      }\n",
              "\n",
              "      [theme=dark] .colab-df-generate {\n",
              "        background-color: #3B4455;\n",
              "        fill: #D2E3FC;\n",
              "      }\n",
              "\n",
              "      [theme=dark] .colab-df-generate:hover {\n",
              "        background-color: #434B5C;\n",
              "        box-shadow: 0px 1px 3px 1px rgba(0, 0, 0, 0.15);\n",
              "        filter: drop-shadow(0px 1px 2px rgba(0, 0, 0, 0.3));\n",
              "        fill: #FFFFFF;\n",
              "      }\n",
              "    </style>\n",
              "    <button class=\"colab-df-generate\" onclick=\"generateWithVariable('cbMay19')\"\n",
              "            title=\"Generate code using this dataframe.\"\n",
              "            style=\"display:none;\">\n",
              "\n",
              "  <svg xmlns=\"http://www.w3.org/2000/svg\" height=\"24px\"viewBox=\"0 0 24 24\"\n",
              "       width=\"24px\">\n",
              "    <path d=\"M7,19H8.4L18.45,9,17,7.55,7,17.6ZM5,21V16.75L18.45,3.32a2,2,0,0,1,2.83,0l1.4,1.43a1.91,1.91,0,0,1,.58,1.4,1.91,1.91,0,0,1-.58,1.4L9.25,21ZM18.45,9,17,7.55Zm-12,3A5.31,5.31,0,0,0,4.9,8.1,5.31,5.31,0,0,0,1,6.5,5.31,5.31,0,0,0,4.9,4.9,5.31,5.31,0,0,0,6.5,1,5.31,5.31,0,0,0,8.1,4.9,5.31,5.31,0,0,0,12,6.5,5.46,5.46,0,0,0,6.5,12Z\"/>\n",
              "  </svg>\n",
              "    </button>\n",
              "    <script>\n",
              "      (() => {\n",
              "      const buttonEl =\n",
              "        document.querySelector('#id_c9dea5fa-19fd-45b3-b247-5fdb0fb40b89 button.colab-df-generate');\n",
              "      buttonEl.style.display =\n",
              "        google.colab.kernel.accessAllowed ? 'block' : 'none';\n",
              "\n",
              "      buttonEl.onclick = () => {\n",
              "        google.colab.notebook.generateWithVariable('cbMay19');\n",
              "      }\n",
              "      })();\n",
              "    </script>\n",
              "  </div>\n",
              "\n",
              "    </div>\n",
              "  </div>\n"
            ],
            "application/vnd.google.colaboratory.intrinsic+json": {
              "type": "dataframe",
              "variable_name": "cbMay19"
            }
          },
          "metadata": {},
          "execution_count": 112
        }
      ]
    },
    {
      "cell_type": "code",
      "metadata": {
        "id": "oFCbtqm_c3UY",
        "colab": {
          "base_uri": "https://localhost:8080/"
        },
        "outputId": "03840301-5d97-4275-f1e2-7a98125dc27f"
      },
      "source": [
        "cbMay19.columns"
      ],
      "execution_count": null,
      "outputs": [
        {
          "output_type": "execute_result",
          "data": {
            "text/plain": [
              "Index(['tripduration', 'starttime', 'stoptime', 'start station id',\n",
              "       'start station name', 'start station latitude',\n",
              "       'start station longitude', 'end station id', 'end station name',\n",
              "       'end station latitude', 'end station longitude', 'bikeid', 'usertype',\n",
              "       'birth year', 'gender'],\n",
              "      dtype='object')"
            ]
          },
          "metadata": {},
          "execution_count": 113
        }
      ]
    },
    {
      "cell_type": "code",
      "source": [
        "#add a datetime object\n",
        "cbMay19[\"date\"] = pd.to_datetime(cbMay19.starttime)"
      ],
      "metadata": {
        "id": "NfvgTaTdNhdE"
      },
      "execution_count": null,
      "outputs": []
    },
    {
      "cell_type": "code",
      "source": [
        "#clean up to keep only relevant variables\n",
        "cbMay19.drop(['tripduration', 'starttime', 'stoptime', 'start station id',\n",
        "       'start station name', 'start station latitude',\n",
        "       'start station longitude', 'end station id', 'end station name',\n",
        "       'end station latitude', 'end station longitude', 'bikeid',\n",
        "       'birth year', 'gender'], axis=1, inplace=True)"
      ],
      "metadata": {
        "id": "USMLZKHUNInW"
      },
      "execution_count": null,
      "outputs": []
    },
    {
      "cell_type": "code",
      "source": [
        "cbMay19"
      ],
      "metadata": {
        "colab": {
          "base_uri": "https://localhost:8080/",
          "height": 423
        },
        "id": "5sDTB3S2N7vx",
        "outputId": "3f5e4dc2-ed72-402c-92d1-56725255abdd"
      },
      "execution_count": null,
      "outputs": [
        {
          "output_type": "execute_result",
          "data": {
            "text/plain": [
              "          usertype                    date\n",
              "0       Subscriber 2019-05-01 00:00:01.901\n",
              "1         Customer 2019-05-01 00:00:03.021\n",
              "2       Subscriber 2019-05-01 00:00:04.627\n",
              "3       Subscriber 2019-05-01 00:00:19.334\n",
              "4       Subscriber 2019-05-01 00:00:22.184\n",
              "...            ...                     ...\n",
              "999995    Customer 2019-05-18 10:43:11.526\n",
              "999996  Subscriber 2019-05-18 10:43:12.175\n",
              "999997  Subscriber 2019-05-18 10:43:12.619\n",
              "999998  Subscriber 2019-05-18 10:43:13.263\n",
              "999999  Subscriber 2019-05-18 10:43:13.894\n",
              "\n",
              "[1000000 rows x 2 columns]"
            ],
            "text/html": [
              "\n",
              "  <div id=\"df-67e5c884-ac1b-49f3-90c5-e760b0fefba4\" class=\"colab-df-container\">\n",
              "    <div>\n",
              "<style scoped>\n",
              "    .dataframe tbody tr th:only-of-type {\n",
              "        vertical-align: middle;\n",
              "    }\n",
              "\n",
              "    .dataframe tbody tr th {\n",
              "        vertical-align: top;\n",
              "    }\n",
              "\n",
              "    .dataframe thead th {\n",
              "        text-align: right;\n",
              "    }\n",
              "</style>\n",
              "<table border=\"1\" class=\"dataframe\">\n",
              "  <thead>\n",
              "    <tr style=\"text-align: right;\">\n",
              "      <th></th>\n",
              "      <th>usertype</th>\n",
              "      <th>date</th>\n",
              "    </tr>\n",
              "  </thead>\n",
              "  <tbody>\n",
              "    <tr>\n",
              "      <th>0</th>\n",
              "      <td>Subscriber</td>\n",
              "      <td>2019-05-01 00:00:01.901</td>\n",
              "    </tr>\n",
              "    <tr>\n",
              "      <th>1</th>\n",
              "      <td>Customer</td>\n",
              "      <td>2019-05-01 00:00:03.021</td>\n",
              "    </tr>\n",
              "    <tr>\n",
              "      <th>2</th>\n",
              "      <td>Subscriber</td>\n",
              "      <td>2019-05-01 00:00:04.627</td>\n",
              "    </tr>\n",
              "    <tr>\n",
              "      <th>3</th>\n",
              "      <td>Subscriber</td>\n",
              "      <td>2019-05-01 00:00:19.334</td>\n",
              "    </tr>\n",
              "    <tr>\n",
              "      <th>4</th>\n",
              "      <td>Subscriber</td>\n",
              "      <td>2019-05-01 00:00:22.184</td>\n",
              "    </tr>\n",
              "    <tr>\n",
              "      <th>...</th>\n",
              "      <td>...</td>\n",
              "      <td>...</td>\n",
              "    </tr>\n",
              "    <tr>\n",
              "      <th>999995</th>\n",
              "      <td>Customer</td>\n",
              "      <td>2019-05-18 10:43:11.526</td>\n",
              "    </tr>\n",
              "    <tr>\n",
              "      <th>999996</th>\n",
              "      <td>Subscriber</td>\n",
              "      <td>2019-05-18 10:43:12.175</td>\n",
              "    </tr>\n",
              "    <tr>\n",
              "      <th>999997</th>\n",
              "      <td>Subscriber</td>\n",
              "      <td>2019-05-18 10:43:12.619</td>\n",
              "    </tr>\n",
              "    <tr>\n",
              "      <th>999998</th>\n",
              "      <td>Subscriber</td>\n",
              "      <td>2019-05-18 10:43:13.263</td>\n",
              "    </tr>\n",
              "    <tr>\n",
              "      <th>999999</th>\n",
              "      <td>Subscriber</td>\n",
              "      <td>2019-05-18 10:43:13.894</td>\n",
              "    </tr>\n",
              "  </tbody>\n",
              "</table>\n",
              "<p>1000000 rows × 2 columns</p>\n",
              "</div>\n",
              "    <div class=\"colab-df-buttons\">\n",
              "\n",
              "  <div class=\"colab-df-container\">\n",
              "    <button class=\"colab-df-convert\" onclick=\"convertToInteractive('df-67e5c884-ac1b-49f3-90c5-e760b0fefba4')\"\n",
              "            title=\"Convert this dataframe to an interactive table.\"\n",
              "            style=\"display:none;\">\n",
              "\n",
              "  <svg xmlns=\"http://www.w3.org/2000/svg\" height=\"24px\" viewBox=\"0 -960 960 960\">\n",
              "    <path d=\"M120-120v-720h720v720H120Zm60-500h600v-160H180v160Zm220 220h160v-160H400v160Zm0 220h160v-160H400v160ZM180-400h160v-160H180v160Zm440 0h160v-160H620v160ZM180-180h160v-160H180v160Zm440 0h160v-160H620v160Z\"/>\n",
              "  </svg>\n",
              "    </button>\n",
              "\n",
              "  <style>\n",
              "    .colab-df-container {\n",
              "      display:flex;\n",
              "      gap: 12px;\n",
              "    }\n",
              "\n",
              "    .colab-df-convert {\n",
              "      background-color: #E8F0FE;\n",
              "      border: none;\n",
              "      border-radius: 50%;\n",
              "      cursor: pointer;\n",
              "      display: none;\n",
              "      fill: #1967D2;\n",
              "      height: 32px;\n",
              "      padding: 0 0 0 0;\n",
              "      width: 32px;\n",
              "    }\n",
              "\n",
              "    .colab-df-convert:hover {\n",
              "      background-color: #E2EBFA;\n",
              "      box-shadow: 0px 1px 2px rgba(60, 64, 67, 0.3), 0px 1px 3px 1px rgba(60, 64, 67, 0.15);\n",
              "      fill: #174EA6;\n",
              "    }\n",
              "\n",
              "    .colab-df-buttons div {\n",
              "      margin-bottom: 4px;\n",
              "    }\n",
              "\n",
              "    [theme=dark] .colab-df-convert {\n",
              "      background-color: #3B4455;\n",
              "      fill: #D2E3FC;\n",
              "    }\n",
              "\n",
              "    [theme=dark] .colab-df-convert:hover {\n",
              "      background-color: #434B5C;\n",
              "      box-shadow: 0px 1px 3px 1px rgba(0, 0, 0, 0.15);\n",
              "      filter: drop-shadow(0px 1px 2px rgba(0, 0, 0, 0.3));\n",
              "      fill: #FFFFFF;\n",
              "    }\n",
              "  </style>\n",
              "\n",
              "    <script>\n",
              "      const buttonEl =\n",
              "        document.querySelector('#df-67e5c884-ac1b-49f3-90c5-e760b0fefba4 button.colab-df-convert');\n",
              "      buttonEl.style.display =\n",
              "        google.colab.kernel.accessAllowed ? 'block' : 'none';\n",
              "\n",
              "      async function convertToInteractive(key) {\n",
              "        const element = document.querySelector('#df-67e5c884-ac1b-49f3-90c5-e760b0fefba4');\n",
              "        const dataTable =\n",
              "          await google.colab.kernel.invokeFunction('convertToInteractive',\n",
              "                                                    [key], {});\n",
              "        if (!dataTable) return;\n",
              "\n",
              "        const docLinkHtml = 'Like what you see? Visit the ' +\n",
              "          '<a target=\"_blank\" href=https://colab.research.google.com/notebooks/data_table.ipynb>data table notebook</a>'\n",
              "          + ' to learn more about interactive tables.';\n",
              "        element.innerHTML = '';\n",
              "        dataTable['output_type'] = 'display_data';\n",
              "        await google.colab.output.renderOutput(dataTable, element);\n",
              "        const docLink = document.createElement('div');\n",
              "        docLink.innerHTML = docLinkHtml;\n",
              "        element.appendChild(docLink);\n",
              "      }\n",
              "    </script>\n",
              "  </div>\n",
              "\n",
              "\n",
              "<div id=\"df-a965440d-94f3-489f-bd40-a4d28f7f1dab\">\n",
              "  <button class=\"colab-df-quickchart\" onclick=\"quickchart('df-a965440d-94f3-489f-bd40-a4d28f7f1dab')\"\n",
              "            title=\"Suggest charts\"\n",
              "            style=\"display:none;\">\n",
              "\n",
              "<svg xmlns=\"http://www.w3.org/2000/svg\" height=\"24px\"viewBox=\"0 0 24 24\"\n",
              "     width=\"24px\">\n",
              "    <g>\n",
              "        <path d=\"M19 3H5c-1.1 0-2 .9-2 2v14c0 1.1.9 2 2 2h14c1.1 0 2-.9 2-2V5c0-1.1-.9-2-2-2zM9 17H7v-7h2v7zm4 0h-2V7h2v10zm4 0h-2v-4h2v4z\"/>\n",
              "    </g>\n",
              "</svg>\n",
              "  </button>\n",
              "\n",
              "<style>\n",
              "  .colab-df-quickchart {\n",
              "      --bg-color: #E8F0FE;\n",
              "      --fill-color: #1967D2;\n",
              "      --hover-bg-color: #E2EBFA;\n",
              "      --hover-fill-color: #174EA6;\n",
              "      --disabled-fill-color: #AAA;\n",
              "      --disabled-bg-color: #DDD;\n",
              "  }\n",
              "\n",
              "  [theme=dark] .colab-df-quickchart {\n",
              "      --bg-color: #3B4455;\n",
              "      --fill-color: #D2E3FC;\n",
              "      --hover-bg-color: #434B5C;\n",
              "      --hover-fill-color: #FFFFFF;\n",
              "      --disabled-bg-color: #3B4455;\n",
              "      --disabled-fill-color: #666;\n",
              "  }\n",
              "\n",
              "  .colab-df-quickchart {\n",
              "    background-color: var(--bg-color);\n",
              "    border: none;\n",
              "    border-radius: 50%;\n",
              "    cursor: pointer;\n",
              "    display: none;\n",
              "    fill: var(--fill-color);\n",
              "    height: 32px;\n",
              "    padding: 0;\n",
              "    width: 32px;\n",
              "  }\n",
              "\n",
              "  .colab-df-quickchart:hover {\n",
              "    background-color: var(--hover-bg-color);\n",
              "    box-shadow: 0 1px 2px rgba(60, 64, 67, 0.3), 0 1px 3px 1px rgba(60, 64, 67, 0.15);\n",
              "    fill: var(--button-hover-fill-color);\n",
              "  }\n",
              "\n",
              "  .colab-df-quickchart-complete:disabled,\n",
              "  .colab-df-quickchart-complete:disabled:hover {\n",
              "    background-color: var(--disabled-bg-color);\n",
              "    fill: var(--disabled-fill-color);\n",
              "    box-shadow: none;\n",
              "  }\n",
              "\n",
              "  .colab-df-spinner {\n",
              "    border: 2px solid var(--fill-color);\n",
              "    border-color: transparent;\n",
              "    border-bottom-color: var(--fill-color);\n",
              "    animation:\n",
              "      spin 1s steps(1) infinite;\n",
              "  }\n",
              "\n",
              "  @keyframes spin {\n",
              "    0% {\n",
              "      border-color: transparent;\n",
              "      border-bottom-color: var(--fill-color);\n",
              "      border-left-color: var(--fill-color);\n",
              "    }\n",
              "    20% {\n",
              "      border-color: transparent;\n",
              "      border-left-color: var(--fill-color);\n",
              "      border-top-color: var(--fill-color);\n",
              "    }\n",
              "    30% {\n",
              "      border-color: transparent;\n",
              "      border-left-color: var(--fill-color);\n",
              "      border-top-color: var(--fill-color);\n",
              "      border-right-color: var(--fill-color);\n",
              "    }\n",
              "    40% {\n",
              "      border-color: transparent;\n",
              "      border-right-color: var(--fill-color);\n",
              "      border-top-color: var(--fill-color);\n",
              "    }\n",
              "    60% {\n",
              "      border-color: transparent;\n",
              "      border-right-color: var(--fill-color);\n",
              "    }\n",
              "    80% {\n",
              "      border-color: transparent;\n",
              "      border-right-color: var(--fill-color);\n",
              "      border-bottom-color: var(--fill-color);\n",
              "    }\n",
              "    90% {\n",
              "      border-color: transparent;\n",
              "      border-bottom-color: var(--fill-color);\n",
              "    }\n",
              "  }\n",
              "</style>\n",
              "\n",
              "  <script>\n",
              "    async function quickchart(key) {\n",
              "      const quickchartButtonEl =\n",
              "        document.querySelector('#' + key + ' button');\n",
              "      quickchartButtonEl.disabled = true;  // To prevent multiple clicks.\n",
              "      quickchartButtonEl.classList.add('colab-df-spinner');\n",
              "      try {\n",
              "        const charts = await google.colab.kernel.invokeFunction(\n",
              "            'suggestCharts', [key], {});\n",
              "      } catch (error) {\n",
              "        console.error('Error during call to suggestCharts:', error);\n",
              "      }\n",
              "      quickchartButtonEl.classList.remove('colab-df-spinner');\n",
              "      quickchartButtonEl.classList.add('colab-df-quickchart-complete');\n",
              "    }\n",
              "    (() => {\n",
              "      let quickchartButtonEl =\n",
              "        document.querySelector('#df-a965440d-94f3-489f-bd40-a4d28f7f1dab button');\n",
              "      quickchartButtonEl.style.display =\n",
              "        google.colab.kernel.accessAllowed ? 'block' : 'none';\n",
              "    })();\n",
              "  </script>\n",
              "</div>\n",
              "\n",
              "  <div id=\"id_630eb923-6d6c-474c-84c8-59f5a27345e4\">\n",
              "    <style>\n",
              "      .colab-df-generate {\n",
              "        background-color: #E8F0FE;\n",
              "        border: none;\n",
              "        border-radius: 50%;\n",
              "        cursor: pointer;\n",
              "        display: none;\n",
              "        fill: #1967D2;\n",
              "        height: 32px;\n",
              "        padding: 0 0 0 0;\n",
              "        width: 32px;\n",
              "      }\n",
              "\n",
              "      .colab-df-generate:hover {\n",
              "        background-color: #E2EBFA;\n",
              "        box-shadow: 0px 1px 2px rgba(60, 64, 67, 0.3), 0px 1px 3px 1px rgba(60, 64, 67, 0.15);\n",
              "        fill: #174EA6;\n",
              "      }\n",
              "\n",
              "      [theme=dark] .colab-df-generate {\n",
              "        background-color: #3B4455;\n",
              "        fill: #D2E3FC;\n",
              "      }\n",
              "\n",
              "      [theme=dark] .colab-df-generate:hover {\n",
              "        background-color: #434B5C;\n",
              "        box-shadow: 0px 1px 3px 1px rgba(0, 0, 0, 0.15);\n",
              "        filter: drop-shadow(0px 1px 2px rgba(0, 0, 0, 0.3));\n",
              "        fill: #FFFFFF;\n",
              "      }\n",
              "    </style>\n",
              "    <button class=\"colab-df-generate\" onclick=\"generateWithVariable('cbMay19')\"\n",
              "            title=\"Generate code using this dataframe.\"\n",
              "            style=\"display:none;\">\n",
              "\n",
              "  <svg xmlns=\"http://www.w3.org/2000/svg\" height=\"24px\"viewBox=\"0 0 24 24\"\n",
              "       width=\"24px\">\n",
              "    <path d=\"M7,19H8.4L18.45,9,17,7.55,7,17.6ZM5,21V16.75L18.45,3.32a2,2,0,0,1,2.83,0l1.4,1.43a1.91,1.91,0,0,1,.58,1.4,1.91,1.91,0,0,1-.58,1.4L9.25,21ZM18.45,9,17,7.55Zm-12,3A5.31,5.31,0,0,0,4.9,8.1,5.31,5.31,0,0,0,1,6.5,5.31,5.31,0,0,0,4.9,4.9,5.31,5.31,0,0,0,6.5,1,5.31,5.31,0,0,0,8.1,4.9,5.31,5.31,0,0,0,12,6.5,5.46,5.46,0,0,0,6.5,12Z\"/>\n",
              "  </svg>\n",
              "    </button>\n",
              "    <script>\n",
              "      (() => {\n",
              "      const buttonEl =\n",
              "        document.querySelector('#id_630eb923-6d6c-474c-84c8-59f5a27345e4 button.colab-df-generate');\n",
              "      buttonEl.style.display =\n",
              "        google.colab.kernel.accessAllowed ? 'block' : 'none';\n",
              "\n",
              "      buttonEl.onclick = () => {\n",
              "        google.colab.notebook.generateWithVariable('cbMay19');\n",
              "      }\n",
              "      })();\n",
              "    </script>\n",
              "  </div>\n",
              "\n",
              "    </div>\n",
              "  </div>\n"
            ],
            "application/vnd.google.colaboratory.intrinsic+json": {
              "type": "dataframe",
              "variable_name": "cbMay19"
            }
          },
          "metadata": {},
          "execution_count": 116
        }
      ]
    },
    {
      "cell_type": "code",
      "source": [
        "# Count the number of subscribers and customers\n",
        "n_subscribers = (cbMay19['usertype'] == 'Subscriber').sum()\n",
        "n_customers = (cbMay19['usertype'] == 'Customer').sum()\n",
        "\n",
        "print(\"Number of subscribers:\", n_subscribers)\n",
        "print(\"Number of customers:\", n_customers)"
      ],
      "metadata": {
        "colab": {
          "base_uri": "https://localhost:8080/"
        },
        "id": "uN0KB66c7zJ2",
        "outputId": "b53415ec-862d-4a7e-9c3a-dc752b44b567"
      },
      "execution_count": null,
      "outputs": [
        {
          "output_type": "stream",
          "name": "stdout",
          "text": [
            "Number of subscribers: 879244\n",
            "Number of customers: 120756\n"
          ]
        }
      ]
    },
    {
      "cell_type": "code",
      "source": [
        "# Total number of users\n",
        "n_total = len(cbMay19)\n",
        "\n",
        "print(\"Total number of users:\", n_total)"
      ],
      "metadata": {
        "colab": {
          "base_uri": "https://localhost:8080/"
        },
        "id": "rNs1dhHQ7_Pp",
        "outputId": "1f3ca1fe-ee34-4cd6-c596-921c475464f9"
      },
      "execution_count": null,
      "outputs": [
        {
          "output_type": "stream",
          "name": "stdout",
          "text": [
            "Total number of users: 1000000\n"
          ]
        }
      ]
    },
    {
      "cell_type": "code",
      "source": [
        "# Proportion of subscribers and customers\n",
        "p_subscribers = n_subscribers / n_total\n",
        "p_customers = n_customers / n_total\n",
        "\n",
        "print (\"Proportion of subscribers:\", p_subscribers)\n",
        "print (\"Proportion of customers:\", p_customers)"
      ],
      "metadata": {
        "id": "AHTDtNSB8Jdn",
        "colab": {
          "base_uri": "https://localhost:8080/"
        },
        "outputId": "1c4cbc9b-bb0e-4dc4-9e2d-1aabd81e0eb2"
      },
      "execution_count": null,
      "outputs": [
        {
          "output_type": "stream",
          "name": "stdout",
          "text": [
            "Proportion of subscribers: 0.879244\n",
            "Proportion of customers: 0.120756\n"
          ]
        }
      ]
    },
    {
      "cell_type": "code",
      "source": [
        "# from google.colab import drive\n",
        "# drive.mount('/content/drive')"
      ],
      "metadata": {
        "id": "U_GCdGpuOFEP"
      },
      "execution_count": null,
      "outputs": []
    },
    {
      "cell_type": "code",
      "source": [
        "#plot the usertype\n",
        "plt.figure(figsize=(8,6))\n",
        "plt.hist(cbMay19['usertype'], bins= 20, color= 'skyblue', edgecolor= 'black')\n",
        "plt.title('Histogram of CitiBike User Types')\n",
        "plt.xlabel('User Type')\n",
        "plt.ylabel('Number of Users')\n",
        "plt.grid(True)\n",
        "plt.show()"
      ],
      "metadata": {
        "id": "1X15TJxCK1uk",
        "colab": {
          "base_uri": "https://localhost:8080/",
          "height": 564
        },
        "outputId": "cf261f9d-8ef2-46f8-95bb-d6b7f446ac35"
      },
      "execution_count": null,
      "outputs": [
        {
          "output_type": "display_data",
          "data": {
            "text/plain": [
              "<Figure size 800x600 with 1 Axes>"
            ],
            "image/png": "[encoded data removed]"
          },
          "metadata": {}
        }
      ]
    },
    {
      "cell_type": "markdown",
      "source": [
        "Figure displays the total number of usertype in citibike programme for May, 2019. The number of Subscribers far exceeds Customers."
      ],
      "metadata": {
        "id": "o-NKHW1kVJ0P"
      }
    },
    {
      "cell_type": "code",
      "source": [
        "\n",
        "# Calculate the normalized distribution\n",
        "usertype_counts = cbMay19['usertype'].value_counts(normalize=True)\n",
        "\n",
        "\n",
        "# Plot the normalized distribution using seaborn\n",
        "plt.figure(figsize=(8, 6))\n",
        "sns.barplot(x=usertype_percentages.index, y=usertype_percentages.values, palette='Blues_d')\n",
        "plt.title('Normalized Distribution of CitiBike Bikers by Usertype')\n",
        "plt.xlabel('Usertype')\n",
        "plt.ylabel('Percentage')\n",
        "plt.ylim(0, 100)\n",
        "\n",
        "# Display percentage values on the bars\n",
        "for i, value in enumerate(usertype_percentages):\n",
        "    plt.text(i, value + 1, f'{value:.2f}%', ha='center')\n",
        "\n",
        "# Show the plot\n",
        "plt.show()"
      ],
      "metadata": {
        "colab": {
          "base_uri": "https://localhost:8080/",
          "height": 651
        },
        "id": "6IkV9flrdFZh",
        "outputId": "7ad3e98e-5e47-488c-e43a-7951933739ab"
      },
      "execution_count": null,
      "outputs": [
        {
          "output_type": "stream",
          "name": "stderr",
          "text": [
            "<ipython-input-122-377971f97e2a>:7: FutureWarning: \n",
            "\n",
            "Passing `palette` without assigning `hue` is deprecated and will be removed in v0.14.0. Assign the `x` variable to `hue` and set `legend=False` for the same effect.\n",
            "\n",
            "  sns.barplot(x=usertype_percentages.index, y=usertype_percentages.values, palette='Blues_d')\n"
          ]
        },
        {
          "output_type": "display_data",
          "data": {
            "text/plain": [
              "<Figure size 800x600 with 1 Axes>"
            ],
            "image/png": "[encoded data removed]"
          },
          "metadata": {}
        }
      ]
    },
    {
      "cell_type": "markdown",
      "source": [
        "Figure displays the percentage of usertype in citibike programme for May, 2019."
      ],
      "metadata": {
        "id": "WxO4DzGdhOp5"
      }
    },
    {
      "cell_type": "code",
      "source": [
        "\n",
        "# Filter for Subscriber usertype and count rides\n",
        "cbMay19_s = cbMay19[cbMay19['usertype'] == 'Subscriber']\n",
        "counts_s = cbMay19_s['date'].groupby(cbMay19_s.date.dt.weekday).count()\n",
        "\n",
        "# Filter for Customer usertype and count rides\n",
        "cbMay19_c = cbMay19[cbMay19['usertype'] == 'Customer']\n",
        "counts_c = cbMay19_c['date'].groupby(cbMay19_c.date.dt.weekday).count()\n",
        "\n",
        "# Create the bar plot for Subscribers\n",
        "ax = counts_s.plot(kind=\"bar\", color='IndianRed', label='Subscriber', figsize=(8, 6))\n",
        "\n",
        "# Overlay the bar plot for Customers with transparency\n",
        "counts_c.plot(kind=\"bar\", color='SteelBlue', alpha=0.6, label='Customer', ax=ax)\n",
        "\n",
        "# Set labels, title, and x-tick labels\n",
        "ax.set_xticklabels(['Mon', 'Tue', 'Wed', 'Thu', 'Fri', 'Sat', 'Sun'], rotation=0)\n",
        "plt.legend()\n",
        "plt.title(\"Number of Rides by Usertype and Day of the Week\\nMay 2019\")\n",
        "plt.ylabel(\"Number of Rides\")\n",
        "\n",
        "# Show the plot\n",
        "plt.tight_layout()\n",
        "plt.show()\n"
      ],
      "metadata": {
        "colab": {
          "base_uri": "https://localhost:8080/",
          "height": 607
        },
        "id": "ibmX1EUSce-z",
        "outputId": "c0abfac7-0b65-420c-cb46-04ac3120d3ff"
      },
      "execution_count": null,
      "outputs": [
        {
          "output_type": "display_data",
          "data": {
            "text/plain": [
              "<Figure size 800x600 with 1 Axes>"
            ],
            "image/png": "[encoded data removed]"
          },
          "metadata": {}
        }
      ]
    },
    {
      "cell_type": "markdown",
      "source": [
        "Figure displays the day wise distribution of user-type in citibike programme May 2019"
      ],
      "metadata": {
        "id": "6XUJpIwzhXhK"
      }
    },
    {
      "cell_type": "code",
      "source": [
        "# Define the observed proportions\n",
        "count = np.array([n_customers, n_subscribers])\n",
        "nobs = np.array([n_total, n_total])"
      ],
      "metadata": {
        "id": "4Luul6dB8cpl"
      },
      "execution_count": null,
      "outputs": []
    },
    {
      "cell_type": "code",
      "source": [
        "# Perform the Z-test\n",
        "z_stat, p_value = sm.stats.proportions_ztest(count, nobs, alternative='smaller')\n",
        "\n",
        "# Print the results\n",
        "print(f\"Z-statistic: {z_stat}\")\n",
        "print(f\"P-value: {p_value}\")"
      ],
      "metadata": {
        "id": "HA9wivCk9F-L",
        "colab": {
          "base_uri": "https://localhost:8080/"
        },
        "outputId": "00945d0a-2bca-4681-9ba3-4666e3b03fc1"
      },
      "execution_count": null,
      "outputs": [
        {
          "output_type": "stream",
          "name": "stdout",
          "text": [
            "Z-statistic: -1072.6640164972441\n",
            "P-value: 0.0\n"
          ]
        }
      ]
    },
    {
      "cell_type": "code",
      "source": [
        "# Decision based on p-value\n",
        "if p_value < 0.05:\n",
        "    print(\"𝑝<0.05 , which is smaller then my chosen  𝛼=0.05. We reject the null hypothesis: Proportion of commuters is significantly same or higher than subscribers.\")\n",
        "else:\n",
        "    print(\"Fail to reject the null hypothesis: Proportion of commuters is significantly same or higher than subscribers.\")"
      ],
      "metadata": {
        "id": "QZEksESb9yp3",
        "colab": {
          "base_uri": "https://localhost:8080/"
        },
        "outputId": "4b71bad4-1626-41c8-cbb8-d530f733d8b4"
      },
      "execution_count": null,
      "outputs": [
        {
          "output_type": "stream",
          "name": "stdout",
          "text": [
            "𝑝<0.05 , which is smaller then my chosen  𝛼=0.05. We reject the null hypothesis: Proportion of commuters is significantly same or higher than subscribers.\n"
          ]
        }
      ]
    },
    {
      "cell_type": "markdown",
      "source": [
        "The Z-statistic measures how many standard deviations the observed proportion is away from the null hypothesis.\n",
        "A Z-value of  −1072.66 is an extremely large negative value, meaning the observed proportion of customers choosing CitiBike is much lower than expected under the null hypothesis, which stated that the proportion of customers would be equal to or greater than subscribers.\n",
        "\n",
        "A P-value of\n",
        "0.0\n",
        "0.0 (essentially close to 0) indicates extremely strong evidence against the null hypothesis. This means the probability of observing such a large difference in proportions, assuming the null hypothesis is true, is nearly impossible.\n",
        "\n",
        "Interpretation: There is significant evidence to support the alternative hypothesis that the proportion of customers using CitiBike is lower than the proportion of subscribers in May 2019.\n",
        "Thus, it's clear that the majority of CitiBike users are subscribers, and the proportion of customers is much smaller."
      ],
      "metadata": {
        "id": "XIG89eEBfL-W"
      }
    }
  ]
}